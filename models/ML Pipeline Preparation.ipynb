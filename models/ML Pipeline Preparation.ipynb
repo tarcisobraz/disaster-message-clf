{
 "cells": [
  {
   "cell_type": "markdown",
   "metadata": {},
   "source": [
    "# ML Pipeline Preparation\n",
    "Follow the instructions below to help you create your ML pipeline.\n",
    "### 1. Import libraries and load data from database.\n",
    "- Import Python libraries\n",
    "- Load dataset from database with [`read_sql_table`](https://pandas.pydata.org/pandas-docs/stable/generated/pandas.read_sql_table.html)\n",
    "- Define feature and target variables X and Y"
   ]
  },
  {
   "cell_type": "code",
   "execution_count": 1,
   "metadata": {},
   "outputs": [
    {
     "name": "stdout",
     "output_type": "stream",
     "text": [
      "[nltk_data] Downloading package punkt to /root/nltk_data...\n",
      "[nltk_data]   Unzipping tokenizers/punkt.zip.\n",
      "[nltk_data] Downloading package wordnet to /root/nltk_data...\n",
      "[nltk_data]   Unzipping corpora/wordnet.zip.\n"
     ]
    }
   ],
   "source": [
    "# import libraries\n",
    "import pandas as pd\n",
    "import nltk\n",
    "from nltk import WordNetLemmatizer\n",
    "nltk.download('punkt')\n",
    "nltk.download('wordnet')\n",
    "from sqlalchemy import create_engine\n",
    "\n",
    "from sklearn.pipeline import Pipeline\n",
    "from sklearn.metrics import confusion_matrix\n",
    "from sklearn.model_selection import train_test_split\n",
    "from sklearn.multioutput import MultiOutputClassifier\n",
    "from sklearn.ensemble import RandomForestClassifier\n",
    "from sklearn.neighbors import KNeighborsClassifier\n",
    "from sklearn.feature_extraction.text import CountVectorizer, TfidfTransformer\n",
    "from sklearn.metrics import classification_report\n",
    "from sklearn.model_selection import GridSearchCV\n",
    "from sklearn.externals import joblib"
   ]
  },
  {
   "cell_type": "code",
   "execution_count": 2,
   "metadata": {},
   "outputs": [],
   "source": [
    "# load data from database\n",
    "engine = create_engine('sqlite:///DisasterResponse.db')\n",
    "df = pd.read_sql_table(con=engine, table_name='Message')\n",
    "X = df.message.values\n",
    "#X = df[['message','original','genre']]\n",
    "#Y = df.aid_related.values\n",
    "Y = df.drop(['id','message','original','genre'], axis=1).values\n"
   ]
  },
  {
   "cell_type": "code",
   "execution_count": 3,
   "metadata": {},
   "outputs": [
    {
     "data": {
      "text/html": [
       "<div>\n",
       "<style scoped>\n",
       "    .dataframe tbody tr th:only-of-type {\n",
       "        vertical-align: middle;\n",
       "    }\n",
       "\n",
       "    .dataframe tbody tr th {\n",
       "        vertical-align: top;\n",
       "    }\n",
       "\n",
       "    .dataframe thead th {\n",
       "        text-align: right;\n",
       "    }\n",
       "</style>\n",
       "<table border=\"1\" class=\"dataframe\">\n",
       "  <thead>\n",
       "    <tr style=\"text-align: right;\">\n",
       "      <th></th>\n",
       "      <th>id</th>\n",
       "      <th>message</th>\n",
       "      <th>original</th>\n",
       "      <th>genre</th>\n",
       "      <th>related</th>\n",
       "      <th>request</th>\n",
       "      <th>offer</th>\n",
       "      <th>aid_related</th>\n",
       "      <th>medical_help</th>\n",
       "      <th>medical_products</th>\n",
       "      <th>...</th>\n",
       "      <th>aid_centers</th>\n",
       "      <th>other_infrastructure</th>\n",
       "      <th>weather_related</th>\n",
       "      <th>floods</th>\n",
       "      <th>storm</th>\n",
       "      <th>fire</th>\n",
       "      <th>earthquake</th>\n",
       "      <th>cold</th>\n",
       "      <th>other_weather</th>\n",
       "      <th>direct_report</th>\n",
       "    </tr>\n",
       "  </thead>\n",
       "  <tbody>\n",
       "    <tr>\n",
       "      <th>0</th>\n",
       "      <td>2</td>\n",
       "      <td>Weather update - a cold front from Cuba that c...</td>\n",
       "      <td>Un front froid se retrouve sur Cuba ce matin. ...</td>\n",
       "      <td>direct</td>\n",
       "      <td>1</td>\n",
       "      <td>0</td>\n",
       "      <td>0</td>\n",
       "      <td>0</td>\n",
       "      <td>0</td>\n",
       "      <td>0</td>\n",
       "      <td>...</td>\n",
       "      <td>0</td>\n",
       "      <td>0</td>\n",
       "      <td>0</td>\n",
       "      <td>0</td>\n",
       "      <td>0</td>\n",
       "      <td>0</td>\n",
       "      <td>0</td>\n",
       "      <td>0</td>\n",
       "      <td>0</td>\n",
       "      <td>0</td>\n",
       "    </tr>\n",
       "    <tr>\n",
       "      <th>1</th>\n",
       "      <td>7</td>\n",
       "      <td>Is the Hurricane over or is it not over</td>\n",
       "      <td>Cyclone nan fini osinon li pa fini</td>\n",
       "      <td>direct</td>\n",
       "      <td>1</td>\n",
       "      <td>0</td>\n",
       "      <td>0</td>\n",
       "      <td>1</td>\n",
       "      <td>0</td>\n",
       "      <td>0</td>\n",
       "      <td>...</td>\n",
       "      <td>0</td>\n",
       "      <td>0</td>\n",
       "      <td>1</td>\n",
       "      <td>0</td>\n",
       "      <td>1</td>\n",
       "      <td>0</td>\n",
       "      <td>0</td>\n",
       "      <td>0</td>\n",
       "      <td>0</td>\n",
       "      <td>0</td>\n",
       "    </tr>\n",
       "    <tr>\n",
       "      <th>2</th>\n",
       "      <td>8</td>\n",
       "      <td>Looking for someone but no name</td>\n",
       "      <td>Patnm, di Maryani relem pou li banm nouvel li ...</td>\n",
       "      <td>direct</td>\n",
       "      <td>1</td>\n",
       "      <td>0</td>\n",
       "      <td>0</td>\n",
       "      <td>0</td>\n",
       "      <td>0</td>\n",
       "      <td>0</td>\n",
       "      <td>...</td>\n",
       "      <td>0</td>\n",
       "      <td>0</td>\n",
       "      <td>0</td>\n",
       "      <td>0</td>\n",
       "      <td>0</td>\n",
       "      <td>0</td>\n",
       "      <td>0</td>\n",
       "      <td>0</td>\n",
       "      <td>0</td>\n",
       "      <td>0</td>\n",
       "    </tr>\n",
       "    <tr>\n",
       "      <th>3</th>\n",
       "      <td>9</td>\n",
       "      <td>UN reports Leogane 80-90 destroyed. Only Hospi...</td>\n",
       "      <td>UN reports Leogane 80-90 destroyed. Only Hospi...</td>\n",
       "      <td>direct</td>\n",
       "      <td>1</td>\n",
       "      <td>1</td>\n",
       "      <td>0</td>\n",
       "      <td>1</td>\n",
       "      <td>0</td>\n",
       "      <td>1</td>\n",
       "      <td>...</td>\n",
       "      <td>0</td>\n",
       "      <td>0</td>\n",
       "      <td>0</td>\n",
       "      <td>0</td>\n",
       "      <td>0</td>\n",
       "      <td>0</td>\n",
       "      <td>0</td>\n",
       "      <td>0</td>\n",
       "      <td>0</td>\n",
       "      <td>0</td>\n",
       "    </tr>\n",
       "    <tr>\n",
       "      <th>4</th>\n",
       "      <td>12</td>\n",
       "      <td>says: west side of Haiti, rest of the country ...</td>\n",
       "      <td>facade ouest d Haiti et le reste du pays aujou...</td>\n",
       "      <td>direct</td>\n",
       "      <td>1</td>\n",
       "      <td>0</td>\n",
       "      <td>0</td>\n",
       "      <td>0</td>\n",
       "      <td>0</td>\n",
       "      <td>0</td>\n",
       "      <td>...</td>\n",
       "      <td>0</td>\n",
       "      <td>0</td>\n",
       "      <td>0</td>\n",
       "      <td>0</td>\n",
       "      <td>0</td>\n",
       "      <td>0</td>\n",
       "      <td>0</td>\n",
       "      <td>0</td>\n",
       "      <td>0</td>\n",
       "      <td>0</td>\n",
       "    </tr>\n",
       "  </tbody>\n",
       "</table>\n",
       "<p>5 rows × 40 columns</p>\n",
       "</div>"
      ],
      "text/plain": [
       "   id                                            message  \\\n",
       "0   2  Weather update - a cold front from Cuba that c...   \n",
       "1   7            Is the Hurricane over or is it not over   \n",
       "2   8                    Looking for someone but no name   \n",
       "3   9  UN reports Leogane 80-90 destroyed. Only Hospi...   \n",
       "4  12  says: west side of Haiti, rest of the country ...   \n",
       "\n",
       "                                            original   genre  related  \\\n",
       "0  Un front froid se retrouve sur Cuba ce matin. ...  direct        1   \n",
       "1                 Cyclone nan fini osinon li pa fini  direct        1   \n",
       "2  Patnm, di Maryani relem pou li banm nouvel li ...  direct        1   \n",
       "3  UN reports Leogane 80-90 destroyed. Only Hospi...  direct        1   \n",
       "4  facade ouest d Haiti et le reste du pays aujou...  direct        1   \n",
       "\n",
       "   request  offer  aid_related  medical_help  medical_products      ...        \\\n",
       "0        0      0            0             0                 0      ...         \n",
       "1        0      0            1             0                 0      ...         \n",
       "2        0      0            0             0                 0      ...         \n",
       "3        1      0            1             0                 1      ...         \n",
       "4        0      0            0             0                 0      ...         \n",
       "\n",
       "   aid_centers  other_infrastructure  weather_related  floods  storm  fire  \\\n",
       "0            0                     0                0       0      0     0   \n",
       "1            0                     0                1       0      1     0   \n",
       "2            0                     0                0       0      0     0   \n",
       "3            0                     0                0       0      0     0   \n",
       "4            0                     0                0       0      0     0   \n",
       "\n",
       "   earthquake  cold  other_weather  direct_report  \n",
       "0           0     0              0              0  \n",
       "1           0     0              0              0  \n",
       "2           0     0              0              0  \n",
       "3           0     0              0              0  \n",
       "4           0     0              0              0  \n",
       "\n",
       "[5 rows x 40 columns]"
      ]
     },
     "execution_count": 3,
     "metadata": {},
     "output_type": "execute_result"
    }
   ],
   "source": [
    "df.head()"
   ]
  },
  {
   "cell_type": "code",
   "execution_count": 4,
   "metadata": {},
   "outputs": [
    {
     "data": {
      "text/plain": [
       "array(['Weather update - a cold front from Cuba that could pass over Haiti',\n",
       "       'Is the Hurricane over or is it not over',\n",
       "       'Looking for someone but no name', ...,\n",
       "       \"Proshika, operating in Cox's Bazar municipality and 5 other unions, Ramu and Chokoria, assessment, 5 kg rice, 1,5 kg lentils to 700 families.\",\n",
       "       'Some 2,000 women protesting against the conduct of the elections were teargassed as they tried to converge on the local electoral commission offices in the southern oil city of Port Harcourt.',\n",
       "       'A radical shift in thinking came about as a result of this meeting, recognizing that HIV/AIDS is at the core of the humanitarian crisis and identifying the crisis itself as a function of the HIV/AIDS pandemic.'], dtype=object)"
      ]
     },
     "execution_count": 4,
     "metadata": {},
     "output_type": "execute_result"
    }
   ],
   "source": [
    "X"
   ]
  },
  {
   "cell_type": "code",
   "execution_count": 5,
   "metadata": {},
   "outputs": [
    {
     "data": {
      "text/plain": [
       "array([[1, 0, 0, ..., 0, 0, 0],\n",
       "       [1, 0, 0, ..., 0, 0, 0],\n",
       "       [1, 0, 0, ..., 0, 0, 0],\n",
       "       ..., \n",
       "       [1, 0, 0, ..., 0, 0, 0],\n",
       "       [1, 0, 0, ..., 0, 0, 0],\n",
       "       [1, 0, 0, ..., 0, 0, 0]])"
      ]
     },
     "execution_count": 5,
     "metadata": {},
     "output_type": "execute_result"
    }
   ],
   "source": [
    "Y"
   ]
  },
  {
   "cell_type": "markdown",
   "metadata": {},
   "source": [
    "### 2. Write a tokenization function to process your text data"
   ]
  },
  {
   "cell_type": "code",
   "execution_count": 6,
   "metadata": {},
   "outputs": [],
   "source": [
    "def tokenize(text):\n",
    "    tokens = nltk.tokenize.word_tokenize(text.lower().strip())\n",
    "    lemmatizer = WordNetLemmatizer()\n",
    "    clean_tokens = [lemmatizer.lemmatize(tok) for tok in tokens]\n",
    "\n",
    "    return clean_tokens"
   ]
  },
  {
   "cell_type": "markdown",
   "metadata": {},
   "source": [
    "### 3. Build a machine learning pipeline\n",
    "This machine pipeline should take in the `message` column as input and output classification results on the other 36 categories in the dataset. You may find the [MultiOutputClassifier](http://scikit-learn.org/stable/modules/generated/sklearn.multioutput.MultiOutputClassifier.html) helpful for predicting multiple target variables."
   ]
  },
  {
   "cell_type": "code",
   "execution_count": 23,
   "metadata": {},
   "outputs": [],
   "source": [
    "pipeline = Pipeline([\n",
    "    ('vect',CountVectorizer(tokenizer=tokenize, ngram_range=(1,3))),\n",
    "    ('tfidf', TfidfTransformer()),\n",
    "    ('multi_clf', MultiOutputClassifier(RandomForestClassifier(random_state=199), n_jobs=-1))\n",
    "])"
   ]
  },
  {
   "cell_type": "markdown",
   "metadata": {},
   "source": [
    "### 4. Train pipeline\n",
    "- Split data into train and test sets\n",
    "- Train pipeline"
   ]
  },
  {
   "cell_type": "code",
   "execution_count": 24,
   "metadata": {},
   "outputs": [],
   "source": [
    "X_train, X_test, y_train, y_test = train_test_split(X, Y, test_size=0.25, random_state=199)"
   ]
  },
  {
   "cell_type": "code",
   "execution_count": 25,
   "metadata": {},
   "outputs": [
    {
     "data": {
      "text/plain": [
       "array([ 'It works as a fertilizer enhancement, a composting additive, and even as an alternative to household cleaning products, according to EMRO.',\n",
       "       'I need a job to feed my family. I am an electrician and a musician. I perform harmonization and orchestration in Mexico. I speak English and French. Let me know how I can help',\n",
       "       'The report also warns that if the clan fighting extends to sorghum-producing areas in the south during this critical stage of crop harvest, it could further hamper harvesting and exert a negative impact on food security throughout Somalia.',\n",
       "       ...,\n",
       "       'HELP THE EARTHQUAKE VICTIMS IN HAITI http tinyurl.com yk3bspe links to many resources where you can make donations. Broke? donate time',\n",
       "       'The low snowfall pattern and the snowfall differentiation among catchments are clearly reflected in the irrigated wheat production levels.',\n",
       "       \"Having fun at #Lexi 's ! Real food in real house with electrical lighting . Good times . I feel human again #escapingsandy\"], dtype=object)"
      ]
     },
     "execution_count": 25,
     "metadata": {},
     "output_type": "execute_result"
    }
   ],
   "source": [
    "X_train"
   ]
  },
  {
   "cell_type": "code",
   "execution_count": 26,
   "metadata": {},
   "outputs": [
    {
     "data": {
      "text/plain": [
       "array([[0, 0, 0, ..., 0, 0, 0],\n",
       "       [0, 0, 0, ..., 0, 0, 0],\n",
       "       [1, 0, 0, ..., 0, 0, 0],\n",
       "       ..., \n",
       "       [1, 1, 0, ..., 0, 0, 0],\n",
       "       [1, 0, 0, ..., 0, 0, 0],\n",
       "       [1, 0, 0, ..., 0, 1, 1]])"
      ]
     },
     "execution_count": 26,
     "metadata": {},
     "output_type": "execute_result"
    }
   ],
   "source": [
    "y_train"
   ]
  },
  {
   "cell_type": "code",
   "execution_count": 27,
   "metadata": {},
   "outputs": [
    {
     "name": "stdout",
     "output_type": "stream",
     "text": [
      "(19662,) (19662, 36)\n"
     ]
    }
   ],
   "source": [
    "print(X_train.shape, y_train.shape)"
   ]
  },
  {
   "cell_type": "markdown",
   "metadata": {},
   "source": [
    "### 5. Test your model\n",
    "Report the f1 score, precision and recall for each output category of the dataset. You can do this by iterating through the columns and calling sklearn's `classification_report` on each."
   ]
  },
  {
   "cell_type": "code",
   "execution_count": 28,
   "metadata": {},
   "outputs": [
    {
     "data": {
      "text/plain": [
       "(19662,)"
      ]
     },
     "execution_count": 28,
     "metadata": {},
     "output_type": "execute_result"
    }
   ],
   "source": [
    "X_train.shape"
   ]
  },
  {
   "cell_type": "code",
   "execution_count": 29,
   "metadata": {},
   "outputs": [
    {
     "data": {
      "text/plain": [
       "array([ 'It works as a fertilizer enhancement, a composting additive, and even as an alternative to household cleaning products, according to EMRO.',\n",
       "       'I need a job to feed my family. I am an electrician and a musician. I perform harmonization and orchestration in Mexico. I speak English and French. Let me know how I can help',\n",
       "       'The report also warns that if the clan fighting extends to sorghum-producing areas in the south during this critical stage of crop harvest, it could further hamper harvesting and exert a negative impact on food security throughout Somalia.',\n",
       "       ...,\n",
       "       'HELP THE EARTHQUAKE VICTIMS IN HAITI http tinyurl.com yk3bspe links to many resources where you can make donations. Broke? donate time',\n",
       "       'The low snowfall pattern and the snowfall differentiation among catchments are clearly reflected in the irrigated wheat production levels.',\n",
       "       \"Having fun at #Lexi 's ! Real food in real house with electrical lighting . Good times . I feel human again #escapingsandy\"], dtype=object)"
      ]
     },
     "execution_count": 29,
     "metadata": {},
     "output_type": "execute_result"
    }
   ],
   "source": [
    "X_train"
   ]
  },
  {
   "cell_type": "code",
   "execution_count": 14,
   "metadata": {},
   "outputs": [],
   "source": [
    "# train classifier\n",
    "pipeline.fit(X_train, y_train)\n",
    "\n",
    "# predict on test data\n",
    "y_pred = pipeline.predict(X_test)"
   ]
  },
  {
   "cell_type": "code",
   "execution_count": 15,
   "metadata": {},
   "outputs": [
    {
     "name": "stdout",
     "output_type": "stream",
     "text": [
      "(6554,)\n"
     ]
    }
   ],
   "source": [
    "print(X_test.shape)"
   ]
  },
  {
   "cell_type": "code",
   "execution_count": 16,
   "metadata": {},
   "outputs": [
    {
     "name": "stdout",
     "output_type": "stream",
     "text": [
      "(6554, 36)\n"
     ]
    },
    {
     "data": {
      "text/plain": [
       "array([[1, 0, 0, ..., 0, 0, 0],\n",
       "       [0, 0, 0, ..., 0, 0, 0],\n",
       "       [1, 0, 0, ..., 0, 0, 0],\n",
       "       ..., \n",
       "       [0, 0, 0, ..., 0, 0, 0],\n",
       "       [1, 0, 0, ..., 0, 0, 0],\n",
       "       [0, 0, 0, ..., 0, 0, 0]])"
      ]
     },
     "execution_count": 16,
     "metadata": {},
     "output_type": "execute_result"
    }
   ],
   "source": [
    "print(y_pred.shape)\n",
    "y_pred"
   ]
  },
  {
   "cell_type": "code",
   "execution_count": 17,
   "metadata": {},
   "outputs": [
    {
     "data": {
      "text/plain": [
       "array([1, 0, 1, ..., 0, 1, 0])"
      ]
     },
     "execution_count": 17,
     "metadata": {},
     "output_type": "execute_result"
    }
   ],
   "source": [
    "y_pred[:,0]"
   ]
  },
  {
   "cell_type": "code",
   "execution_count": 18,
   "metadata": {},
   "outputs": [
    {
     "data": {
      "text/plain": [
       "array([[1, 0, 0, ..., 0, 1, 0],\n",
       "       [1, 0, 0, ..., 0, 0, 0],\n",
       "       [0, 0, 0, ..., 0, 0, 0],\n",
       "       ..., \n",
       "       [0, 0, 0, ..., 0, 0, 0],\n",
       "       [1, 0, 0, ..., 1, 0, 0],\n",
       "       [1, 0, 0, ..., 0, 0, 0]])"
      ]
     },
     "execution_count": 18,
     "metadata": {},
     "output_type": "execute_result"
    }
   ],
   "source": [
    "y_test"
   ]
  },
  {
   "cell_type": "code",
   "execution_count": 19,
   "metadata": {},
   "outputs": [
    {
     "name": "stdout",
     "output_type": "stream",
     "text": [
      "             precision    recall  f1-score   support\n",
      "\n",
      "  related-0       0.59      0.33      0.43      1565\n",
      "  related-1       0.81      0.93      0.86      4941\n",
      "\n",
      "avg / total       0.76      0.78      0.76      6506\n",
      "\n",
      "             precision    recall  f1-score   support\n",
      "\n",
      "  request-0       0.89      0.98      0.93      5420\n",
      "  request-1       0.83      0.40      0.53      1134\n",
      "\n",
      "avg / total       0.88      0.88      0.86      6554\n",
      "\n",
      "             precision    recall  f1-score   support\n",
      "\n",
      "    offer-0       1.00      1.00      1.00      6524\n",
      "    offer-1       0.00      0.00      0.00        30\n",
      "\n",
      "avg / total       0.99      1.00      0.99      6554\n",
      "\n",
      "               precision    recall  f1-score   support\n",
      "\n",
      "aid_related-0       0.73      0.87      0.79      3900\n",
      "aid_related-1       0.73      0.51      0.60      2654\n",
      "\n",
      "  avg / total       0.73      0.73      0.72      6554\n",
      "\n",
      "                precision    recall  f1-score   support\n",
      "\n",
      "medical_help-0       0.93      0.99      0.96      6038\n",
      "medical_help-1       0.46      0.06      0.10       516\n",
      "\n",
      "   avg / total       0.89      0.92      0.89      6554\n",
      "\n",
      "                    precision    recall  f1-score   support\n",
      "\n",
      "medical_products-0       0.95      1.00      0.98      6233\n",
      "medical_products-1       0.76      0.08      0.14       321\n",
      "\n",
      "       avg / total       0.94      0.95      0.94      6554\n",
      "\n",
      "                     precision    recall  f1-score   support\n",
      "\n",
      "search_and_rescue-0       0.97      1.00      0.99      6380\n",
      "search_and_rescue-1       0.40      0.03      0.06       174\n",
      "\n",
      "        avg / total       0.96      0.97      0.96      6554\n",
      "\n",
      "             precision    recall  f1-score   support\n",
      "\n",
      " security-0       0.98      1.00      0.99      6452\n",
      " security-1       0.00      0.00      0.00       102\n",
      "\n",
      "avg / total       0.97      0.98      0.98      6554\n",
      "\n",
      "             precision    recall  f1-score   support\n",
      "\n",
      " military-0       0.97      1.00      0.99      6370\n",
      " military-1       0.69      0.06      0.11       184\n",
      "\n",
      "avg / total       0.97      0.97      0.96      6554\n",
      "\n",
      "               precision    recall  f1-score   support\n",
      "\n",
      "child_alone-0       1.00      1.00      1.00      6554\n",
      "child_alone-1       0.00      0.00      0.00         0\n",
      "\n",
      "  avg / total       1.00      1.00      1.00      6554\n",
      "\n",
      "             precision    recall  f1-score   support\n",
      "\n",
      "    water-0       0.95      1.00      0.97      6145\n",
      "    water-1       0.82      0.20      0.32       409\n",
      "\n",
      "avg / total       0.94      0.95      0.93      6554\n",
      "\n",
      "             precision    recall  f1-score   support\n",
      "\n",
      "     food-0       0.93      0.99      0.96      5843\n",
      "     food-1       0.81      0.39      0.52       711\n",
      "\n",
      "avg / total       0.92      0.92      0.91      6554\n",
      "\n",
      "             precision    recall  f1-score   support\n",
      "\n",
      "  shelter-0       0.93      1.00      0.96      5999\n",
      "  shelter-1       0.86      0.23      0.36       555\n",
      "\n",
      "avg / total       0.93      0.93      0.91      6554\n",
      "\n",
      "             precision    recall  f1-score   support\n",
      "\n",
      " clothing-0       0.99      1.00      0.99      6472\n",
      " clothing-1       0.60      0.11      0.19        82\n",
      "\n",
      "avg / total       0.98      0.99      0.98      6554\n",
      "\n",
      "             precision    recall  f1-score   support\n",
      "\n",
      "    money-0       0.98      1.00      0.99      6392\n",
      "    money-1       0.43      0.02      0.04       162\n",
      "\n",
      "avg / total       0.96      0.98      0.96      6554\n",
      "\n",
      "                  precision    recall  f1-score   support\n",
      "\n",
      "missing_people-0       0.99      1.00      1.00      6489\n",
      "missing_people-1       0.50      0.02      0.03        65\n",
      "\n",
      "     avg / total       0.99      0.99      0.99      6554\n",
      "\n",
      "             precision    recall  f1-score   support\n",
      "\n",
      " refugees-0       0.97      1.00      0.98      6359\n",
      " refugees-1       0.25      0.01      0.01       195\n",
      "\n",
      "avg / total       0.95      0.97      0.96      6554\n",
      "\n",
      "             precision    recall  f1-score   support\n",
      "\n",
      "    death-0       0.96      1.00      0.98      6247\n",
      "    death-1       0.68      0.04      0.08       307\n",
      "\n",
      "avg / total       0.94      0.95      0.93      6554\n",
      "\n",
      "             precision    recall  f1-score   support\n",
      "\n",
      "other_aid-0       0.87      1.00      0.93      5685\n",
      "other_aid-1       0.53      0.03      0.05       869\n",
      "\n",
      "avg / total       0.83      0.87      0.81      6554\n",
      "\n",
      "                          precision    recall  f1-score   support\n",
      "\n",
      "infrastructure_related-0       0.93      1.00      0.97      6127\n",
      "infrastructure_related-1       0.17      0.00      0.00       427\n",
      "\n",
      "             avg / total       0.88      0.93      0.90      6554\n",
      "\n",
      "             precision    recall  f1-score   support\n",
      "\n",
      "transport-0       0.96      1.00      0.98      6264\n",
      "transport-1       0.60      0.03      0.06       290\n",
      "\n",
      "avg / total       0.94      0.96      0.94      6554\n",
      "\n",
      "             precision    recall  f1-score   support\n",
      "\n",
      "buildings-0       0.95      1.00      0.98      6218\n",
      "buildings-1       0.84      0.08      0.14       336\n",
      "\n",
      "avg / total       0.95      0.95      0.93      6554\n",
      "\n",
      "               precision    recall  f1-score   support\n",
      "\n",
      "electricity-0       0.98      1.00      0.99      6421\n",
      "electricity-1       0.67      0.02      0.03       133\n",
      "\n",
      "  avg / total       0.97      0.98      0.97      6554\n",
      "\n",
      "             precision    recall  f1-score   support\n",
      "\n",
      "    tools-0       0.99      1.00      1.00      6514\n",
      "    tools-1       0.00      0.00      0.00        40\n",
      "\n",
      "avg / total       0.99      0.99      0.99      6554\n",
      "\n",
      "             precision    recall  f1-score   support\n",
      "\n",
      "hospitals-0       0.99      1.00      0.99      6476\n",
      "hospitals-1       0.00      0.00      0.00        78\n",
      "\n",
      "avg / total       0.98      0.99      0.98      6554\n",
      "\n",
      "             precision    recall  f1-score   support\n",
      "\n",
      "    shops-0       1.00      1.00      1.00      6524\n",
      "    shops-1       0.00      0.00      0.00        30\n",
      "\n",
      "avg / total       0.99      1.00      0.99      6554\n",
      "\n",
      "               precision    recall  f1-score   support\n",
      "\n",
      "aid_centers-0       0.99      1.00      0.99      6473\n",
      "aid_centers-1       0.00      0.00      0.00        81\n",
      "\n",
      "  avg / total       0.98      0.99      0.98      6554\n",
      "\n",
      "                        precision    recall  f1-score   support\n",
      "\n",
      "other_infrastructure-0       0.96      1.00      0.98      6274\n",
      "other_infrastructure-1       0.29      0.01      0.01       280\n",
      "\n",
      "           avg / total       0.93      0.96      0.94      6554\n",
      "\n",
      "                   precision    recall  f1-score   support\n",
      "\n",
      "weather_related-0       0.84      0.96      0.90      4755\n",
      "weather_related-1       0.84      0.51      0.63      1799\n",
      "\n",
      "      avg / total       0.84      0.84      0.82      6554\n",
      "\n",
      "             precision    recall  f1-score   support\n",
      "\n",
      "   floods-0       0.94      1.00      0.97      6020\n",
      "   floods-1       0.87      0.34      0.49       534\n",
      "\n",
      "avg / total       0.94      0.94      0.93      6554\n",
      "\n",
      "             precision    recall  f1-score   support\n",
      "\n",
      "    storm-0       0.94      0.99      0.96      5939\n",
      "    storm-1       0.74      0.36      0.48       615\n",
      "\n",
      "avg / total       0.92      0.93      0.92      6554\n",
      "\n",
      "             precision    recall  f1-score   support\n",
      "\n",
      "     fire-0       0.99      1.00      1.00      6488\n",
      "     fire-1       1.00      0.02      0.03        66\n",
      "\n",
      "avg / total       0.99      0.99      0.99      6554\n",
      "\n",
      "              precision    recall  f1-score   support\n",
      "\n",
      "earthquake-0       0.95      0.99      0.97      5959\n",
      "earthquake-1       0.87      0.49      0.62       595\n",
      "\n",
      " avg / total       0.94      0.95      0.94      6554\n",
      "\n",
      "             precision    recall  f1-score   support\n",
      "\n",
      "     cold-0       0.98      1.00      0.99      6413\n",
      "     cold-1       0.85      0.08      0.14       141\n",
      "\n",
      "avg / total       0.98      0.98      0.97      6554\n",
      "\n",
      "                 precision    recall  f1-score   support\n",
      "\n",
      "other_weather-0       0.95      1.00      0.98      6238\n",
      "other_weather-1       0.46      0.04      0.07       316\n",
      "\n",
      "    avg / total       0.93      0.95      0.93      6554\n",
      "\n",
      "                 precision    recall  f1-score   support\n",
      "\n",
      "direct_report-0       0.85      0.98      0.91      5276\n",
      "direct_report-1       0.76      0.29      0.42      1278\n",
      "\n",
      "    avg / total       0.83      0.84      0.82      6554\n",
      "\n"
     ]
    },
    {
     "name": "stderr",
     "output_type": "stream",
     "text": [
      "/opt/conda/lib/python3.6/site-packages/sklearn/metrics/classification.py:1135: UndefinedMetricWarning: Precision and F-score are ill-defined and being set to 0.0 in labels with no predicted samples.\n",
      "  'precision', 'predicted', average, warn_for)\n",
      "/opt/conda/lib/python3.6/site-packages/sklearn/metrics/classification.py:1137: UndefinedMetricWarning: Recall and F-score are ill-defined and being set to 0.0 in labels with no true samples.\n",
      "  'recall', 'true', average, warn_for)\n"
     ]
    }
   ],
   "source": [
    "for category_idx in range(y_pred.shape[1]):\n",
    "    print(classification_report(y_pred=y_pred[:,category_idx],y_true=y_test[:,category_idx], labels=[0,1], target_names=[df.columns[4+category_idx] + '-0',df.columns[4+category_idx] + '-1']))"
   ]
  },
  {
   "cell_type": "markdown",
   "metadata": {},
   "source": [
    "### 6. Improve your model\n",
    "Use grid search to find better parameters. "
   ]
  },
  {
   "cell_type": "code",
   "execution_count": 20,
   "metadata": {},
   "outputs": [
    {
     "data": {
      "text/plain": [
       "dict_keys(['memory', 'steps', 'vect', 'tfidf', 'multi_clf', 'vect__analyzer', 'vect__binary', 'vect__decode_error', 'vect__dtype', 'vect__encoding', 'vect__input', 'vect__lowercase', 'vect__max_df', 'vect__max_features', 'vect__min_df', 'vect__ngram_range', 'vect__preprocessor', 'vect__stop_words', 'vect__strip_accents', 'vect__token_pattern', 'vect__tokenizer', 'vect__vocabulary', 'tfidf__norm', 'tfidf__smooth_idf', 'tfidf__sublinear_tf', 'tfidf__use_idf', 'multi_clf__estimator__bootstrap', 'multi_clf__estimator__class_weight', 'multi_clf__estimator__criterion', 'multi_clf__estimator__max_depth', 'multi_clf__estimator__max_features', 'multi_clf__estimator__max_leaf_nodes', 'multi_clf__estimator__min_impurity_decrease', 'multi_clf__estimator__min_impurity_split', 'multi_clf__estimator__min_samples_leaf', 'multi_clf__estimator__min_samples_split', 'multi_clf__estimator__min_weight_fraction_leaf', 'multi_clf__estimator__n_estimators', 'multi_clf__estimator__n_jobs', 'multi_clf__estimator__oob_score', 'multi_clf__estimator__random_state', 'multi_clf__estimator__verbose', 'multi_clf__estimator__warm_start', 'multi_clf__estimator', 'multi_clf__n_jobs'])"
      ]
     },
     "execution_count": 20,
     "metadata": {},
     "output_type": "execute_result"
    }
   ],
   "source": [
    "pipeline.get_params().keys()"
   ]
  },
  {
   "cell_type": "code",
   "execution_count": 30,
   "metadata": {},
   "outputs": [],
   "source": [
    "parameters = {\n",
    "        #'multi_clf__estimator__n_estimators': [5,10,20],\n",
    "        #'multi_clf__estimator__max_depth': [50, 100]\n",
    "    }\n",
    "\n",
    "cv = GridSearchCV(pipeline, param_grid=parameters, verbose=10)"
   ]
  },
  {
   "cell_type": "markdown",
   "metadata": {},
   "source": [
    "### 7. Test your model\n",
    "Show the accuracy, precision, and recall of the tuned model.  \n",
    "\n",
    "Since this project focuses on code quality, process, and  pipelines, there is no minimum performance metric needed to pass. However, make sure to fine tune your models for accuracy, precision and recall to make your project stand out - especially for your portfolio!"
   ]
  },
  {
   "cell_type": "code",
   "execution_count": 31,
   "metadata": {},
   "outputs": [
    {
     "name": "stdout",
     "output_type": "stream",
     "text": [
      "Fitting 3 folds for each of 1 candidates, totalling 3 fits\n",
      "[CV]  ................................................................\n",
      "[CV] ...................... , score=0.22017088800732376, total= 2.7min\n",
      "[CV]  ................................................................\n"
     ]
    },
    {
     "name": "stderr",
     "output_type": "stream",
     "text": [
      "[Parallel(n_jobs=1)]: Done   1 out of   1 | elapsed:  3.0min remaining:    0.0s\n"
     ]
    },
    {
     "name": "stdout",
     "output_type": "stream",
     "text": [
      "[CV] ...................... , score=0.22978333841928594, total= 2.4min\n",
      "[CV]  ................................................................\n"
     ]
    },
    {
     "name": "stderr",
     "output_type": "stream",
     "text": [
      "[Parallel(n_jobs=1)]: Done   2 out of   2 | elapsed:  5.7min remaining:    0.0s\n"
     ]
    },
    {
     "name": "stdout",
     "output_type": "stream",
     "text": [
      "[CV] ...................... , score=0.22642660970399756, total= 2.5min\n"
     ]
    },
    {
     "name": "stderr",
     "output_type": "stream",
     "text": [
      "[Parallel(n_jobs=1)]: Done   3 out of   3 | elapsed:  8.4min remaining:    0.0s\n",
      "[Parallel(n_jobs=1)]: Done   3 out of   3 | elapsed:  8.4min finished\n"
     ]
    }
   ],
   "source": [
    "# train classifier\n",
    "cv.fit(X_train, y_train)\n",
    "\n",
    "# predict on test data\n",
    "y_pred = cv.predict(X_test)"
   ]
  },
  {
   "cell_type": "code",
   "execution_count": 32,
   "metadata": {},
   "outputs": [
    {
     "data": {
      "text/plain": [
       "{}"
      ]
     },
     "execution_count": 32,
     "metadata": {},
     "output_type": "execute_result"
    }
   ],
   "source": [
    "cv.best_params_"
   ]
  },
  {
   "cell_type": "code",
   "execution_count": 33,
   "metadata": {},
   "outputs": [
    {
     "name": "stdout",
     "output_type": "stream",
     "text": [
      "             precision    recall  f1-score   support\n",
      "\n",
      "  related-0       0.55      0.32      0.41      1565\n",
      "  related-1       0.81      0.91      0.86      4941\n",
      "\n",
      "avg / total       0.74      0.77      0.75      6506\n",
      "\n",
      "             precision    recall  f1-score   support\n",
      "\n",
      "  request-0       0.89      0.98      0.93      5420\n",
      "  request-1       0.81      0.39      0.53      1134\n",
      "\n",
      "avg / total       0.87      0.88      0.86      6554\n",
      "\n",
      "             precision    recall  f1-score   support\n",
      "\n",
      "    offer-0       1.00      1.00      1.00      6524\n",
      "    offer-1       0.00      0.00      0.00        30\n",
      "\n",
      "avg / total       0.99      1.00      0.99      6554\n",
      "\n",
      "               precision    recall  f1-score   support\n",
      "\n",
      "aid_related-0       0.71      0.89      0.79      3900\n",
      "aid_related-1       0.75      0.46      0.57      2654\n",
      "\n",
      "  avg / total       0.73      0.72      0.70      6554\n",
      "\n",
      "                precision    recall  f1-score   support\n",
      "\n",
      "medical_help-0       0.93      1.00      0.96      6038\n",
      "medical_help-1       0.61      0.05      0.10       516\n",
      "\n",
      "   avg / total       0.90      0.92      0.89      6554\n",
      "\n",
      "                    precision    recall  f1-score   support\n",
      "\n",
      "medical_products-0       0.95      1.00      0.98      6233\n",
      "medical_products-1       0.66      0.08      0.15       321\n",
      "\n",
      "       avg / total       0.94      0.95      0.94      6554\n",
      "\n",
      "                     precision    recall  f1-score   support\n",
      "\n",
      "search_and_rescue-0       0.97      1.00      0.99      6380\n",
      "search_and_rescue-1       0.25      0.01      0.01       174\n",
      "\n",
      "        avg / total       0.95      0.97      0.96      6554\n",
      "\n",
      "             precision    recall  f1-score   support\n",
      "\n",
      " security-0       0.98      1.00      0.99      6452\n",
      " security-1       0.00      0.00      0.00       102\n",
      "\n",
      "avg / total       0.97      0.98      0.98      6554\n",
      "\n",
      "             precision    recall  f1-score   support\n",
      "\n",
      " military-0       0.97      1.00      0.99      6370\n",
      " military-1       0.50      0.02      0.04       184\n",
      "\n",
      "avg / total       0.96      0.97      0.96      6554\n",
      "\n",
      "               precision    recall  f1-score   support\n",
      "\n",
      "child_alone-0       1.00      1.00      1.00      6554\n",
      "child_alone-1       0.00      0.00      0.00         0\n",
      "\n",
      "  avg / total       1.00      1.00      1.00      6554\n",
      "\n",
      "             precision    recall  f1-score   support\n",
      "\n",
      "    water-0       0.95      1.00      0.97      6145\n",
      "    water-1       0.80      0.19      0.31       409\n",
      "\n",
      "avg / total       0.94      0.95      0.93      6554\n",
      "\n",
      "             precision    recall  f1-score   support\n",
      "\n",
      "     food-0       0.93      0.99      0.96      5843\n",
      "     food-1       0.83      0.41      0.55       711\n",
      "\n",
      "avg / total       0.92      0.93      0.92      6554\n",
      "\n",
      "             precision    recall  f1-score   support\n",
      "\n",
      "  shelter-0       0.94      1.00      0.97      5999\n",
      "  shelter-1       0.89      0.29      0.44       555\n",
      "\n",
      "avg / total       0.93      0.94      0.92      6554\n",
      "\n",
      "             precision    recall  f1-score   support\n",
      "\n",
      " clothing-0       0.99      1.00      0.99      6472\n",
      " clothing-1       0.83      0.12      0.21        82\n",
      "\n",
      "avg / total       0.99      0.99      0.98      6554\n",
      "\n",
      "             precision    recall  f1-score   support\n",
      "\n",
      "    money-0       0.98      1.00      0.99      6392\n",
      "    money-1       0.50      0.02      0.04       162\n",
      "\n",
      "avg / total       0.96      0.98      0.96      6554\n",
      "\n",
      "                  precision    recall  f1-score   support\n",
      "\n",
      "missing_people-0       0.99      1.00      1.00      6489\n",
      "missing_people-1       1.00      0.05      0.09        65\n",
      "\n",
      "     avg / total       0.99      0.99      0.99      6554\n",
      "\n",
      "             precision    recall  f1-score   support\n",
      "\n",
      " refugees-0       0.97      1.00      0.98      6359\n",
      " refugees-1       0.22      0.01      0.02       195\n",
      "\n",
      "avg / total       0.95      0.97      0.96      6554\n",
      "\n",
      "             precision    recall  f1-score   support\n",
      "\n",
      "    death-0       0.96      1.00      0.98      6247\n",
      "    death-1       0.85      0.15      0.25       307\n",
      "\n",
      "avg / total       0.95      0.96      0.94      6554\n",
      "\n",
      "             precision    recall  f1-score   support\n",
      "\n",
      "other_aid-0       0.87      1.00      0.93      5685\n",
      "other_aid-1       0.53      0.03      0.06       869\n",
      "\n",
      "avg / total       0.83      0.87      0.81      6554\n",
      "\n",
      "                          precision    recall  f1-score   support\n",
      "\n",
      "infrastructure_related-0       0.94      1.00      0.97      6127\n",
      "infrastructure_related-1       0.36      0.01      0.02       427\n",
      "\n",
      "             avg / total       0.90      0.93      0.90      6554\n",
      "\n",
      "             precision    recall  f1-score   support\n",
      "\n",
      "transport-0       0.96      1.00      0.98      6264\n",
      "transport-1       0.71      0.06      0.11       290\n",
      "\n",
      "avg / total       0.95      0.96      0.94      6554\n",
      "\n",
      "             precision    recall  f1-score   support\n",
      "\n",
      "buildings-0       0.95      1.00      0.97      6218\n",
      "buildings-1       0.68      0.07      0.12       336\n",
      "\n",
      "avg / total       0.94      0.95      0.93      6554\n",
      "\n",
      "               precision    recall  f1-score   support\n",
      "\n",
      "electricity-0       0.98      1.00      0.99      6421\n",
      "electricity-1       0.33      0.01      0.01       133\n",
      "\n",
      "  avg / total       0.97      0.98      0.97      6554\n",
      "\n",
      "             precision    recall  f1-score   support\n",
      "\n",
      "    tools-0       0.99      1.00      1.00      6514\n",
      "    tools-1       0.00      0.00      0.00        40\n",
      "\n",
      "avg / total       0.99      0.99      0.99      6554\n",
      "\n",
      "             precision    recall  f1-score   support\n",
      "\n",
      "hospitals-0       0.99      1.00      0.99      6476\n",
      "hospitals-1       0.00      0.00      0.00        78\n",
      "\n",
      "avg / total       0.98      0.99      0.98      6554\n",
      "\n",
      "             precision    recall  f1-score   support\n",
      "\n",
      "    shops-0       1.00      1.00      1.00      6524\n",
      "    shops-1       0.00      0.00      0.00        30\n",
      "\n",
      "avg / total       0.99      1.00      0.99      6554\n",
      "\n",
      "               precision    recall  f1-score   support\n",
      "\n",
      "aid_centers-0       0.99      1.00      0.99      6473\n",
      "aid_centers-1       0.00      0.00      0.00        81\n",
      "\n",
      "  avg / total       0.98      0.99      0.98      6554\n",
      "\n",
      "                        precision    recall  f1-score   support\n",
      "\n",
      "other_infrastructure-0       0.96      1.00      0.98      6274\n",
      "other_infrastructure-1       0.00      0.00      0.00       280\n",
      "\n",
      "           avg / total       0.92      0.96      0.94      6554\n",
      "\n",
      "                   precision    recall  f1-score   support\n",
      "\n",
      "weather_related-0       0.82      0.97      0.89      4755\n",
      "weather_related-1       0.82      0.43      0.56      1799\n",
      "\n",
      "      avg / total       0.82      0.82      0.80      6554\n",
      "\n",
      "             precision    recall  f1-score   support\n",
      "\n",
      "   floods-0       0.93      1.00      0.96      6020\n",
      "   floods-1       0.88      0.17      0.29       534\n",
      "\n",
      "avg / total       0.93      0.93      0.91      6554\n",
      "\n",
      "             precision    recall  f1-score   support\n",
      "\n",
      "    storm-0       0.93      0.99      0.96      5939\n",
      "    storm-1       0.75      0.29      0.42       615\n",
      "\n",
      "avg / total       0.91      0.92      0.91      6554\n",
      "\n",
      "             precision    recall  f1-score   support\n",
      "\n",
      "     fire-0       0.99      1.00      0.99      6488\n",
      "     fire-1       0.00      0.00      0.00        66\n",
      "\n",
      "avg / total       0.98      0.99      0.98      6554\n",
      "\n",
      "              precision    recall  f1-score   support\n",
      "\n",
      "earthquake-0       0.96      0.99      0.98      5959\n",
      "earthquake-1       0.90      0.59      0.71       595\n",
      "\n",
      " avg / total       0.96      0.96      0.95      6554\n",
      "\n",
      "             precision    recall  f1-score   support\n",
      "\n",
      "     cold-0       0.98      1.00      0.99      6413\n",
      "     cold-1       0.40      0.01      0.03       141\n",
      "\n",
      "avg / total       0.97      0.98      0.97      6554\n",
      "\n",
      "                 precision    recall  f1-score   support\n",
      "\n",
      "other_weather-0       0.95      1.00      0.98      6238\n",
      "other_weather-1       0.50      0.01      0.02       316\n",
      "\n",
      "    avg / total       0.93      0.95      0.93      6554\n",
      "\n",
      "                 precision    recall  f1-score   support\n",
      "\n",
      "direct_report-0       0.86      0.98      0.92      5276\n",
      "direct_report-1       0.81      0.34      0.48      1278\n",
      "\n",
      "    avg / total       0.85      0.86      0.83      6554\n",
      "\n"
     ]
    },
    {
     "name": "stderr",
     "output_type": "stream",
     "text": [
      "/opt/conda/lib/python3.6/site-packages/sklearn/metrics/classification.py:1135: UndefinedMetricWarning: Precision and F-score are ill-defined and being set to 0.0 in labels with no predicted samples.\n",
      "  'precision', 'predicted', average, warn_for)\n",
      "/opt/conda/lib/python3.6/site-packages/sklearn/metrics/classification.py:1137: UndefinedMetricWarning: Recall and F-score are ill-defined and being set to 0.0 in labels with no true samples.\n",
      "  'recall', 'true', average, warn_for)\n"
     ]
    }
   ],
   "source": [
    "for category_idx in range(y_pred.shape[1]):\n",
    "    print(classification_report(y_pred=y_pred[:,category_idx],y_true=y_test[:,category_idx], labels=[0,1], target_names=[df.columns[4+category_idx] + '-0',df.columns[4+category_idx] + '-1']))"
   ]
  },
  {
   "cell_type": "markdown",
   "metadata": {},
   "source": [
    "### 8. Try improving your model further. Here are a few ideas:\n",
    "* try other machine learning algorithms\n",
    "* add other features besides the TF-IDF"
   ]
  },
  {
   "cell_type": "code",
   "execution_count": null,
   "metadata": {},
   "outputs": [],
   "source": []
  },
  {
   "cell_type": "markdown",
   "metadata": {},
   "source": [
    "### 9. Export your model as a pickle file"
   ]
  },
  {
   "cell_type": "code",
   "execution_count": 122,
   "metadata": {},
   "outputs": [
    {
     "data": {
      "text/plain": [
       "['initial_model.pkl']"
      ]
     },
     "execution_count": 122,
     "metadata": {},
     "output_type": "execute_result"
    }
   ],
   "source": [
    "# Output a pickle file for the model\n",
    "joblib.dump(cv, 'initial_model.pkl') "
   ]
  },
  {
   "cell_type": "markdown",
   "metadata": {},
   "source": [
    "### 10. Use this notebook to complete `train.py`\n",
    "Use the template file attached in the Resources folder to write a script that runs the steps above to create a database and export a model based on a new dataset specified by the user."
   ]
  },
  {
   "cell_type": "code",
   "execution_count": null,
   "metadata": {},
   "outputs": [],
   "source": []
  }
 ],
 "metadata": {
  "kernelspec": {
   "display_name": "Python 3",
   "language": "python",
   "name": "python3"
  },
  "language_info": {
   "codemirror_mode": {
    "name": "ipython",
    "version": 3
   },
   "file_extension": ".py",
   "mimetype": "text/x-python",
   "name": "python",
   "nbconvert_exporter": "python",
   "pygments_lexer": "ipython3",
   "version": "3.6.3"
  }
 },
 "nbformat": 4,
 "nbformat_minor": 2
}
